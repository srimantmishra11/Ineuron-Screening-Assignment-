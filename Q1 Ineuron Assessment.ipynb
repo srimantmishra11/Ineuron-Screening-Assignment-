{
 "cells": [
  {
   "cell_type": "markdown",
   "id": "45472340",
   "metadata": {},
   "source": [
    "Q1. Create a function in python to read the text file and replace specific content\n",
    "of the file."
   ]
  },
  {
   "cell_type": "markdown",
   "id": "91196c17",
   "metadata": {},
   "source": [
    "Here I have created a new file i.e. examples.txt in my local machine which have the string \"This is a placement assignment\""
   ]
  },
  {
   "cell_type": "code",
   "execution_count": 1,
   "id": "510ef20e",
   "metadata": {},
   "outputs": [],
   "source": [
    "try:\n",
    "    f = open(\"example.txt\",\"w\")\n",
    "except Exception as e:\n",
    "    print(\"Please enter a valid file or mode before creating because this is an error \",e)\n",
    "else:\n",
    "    f.write(\"This is a placement assignment\")\n",
    "    f.close()\n",
    "#finally:\n",
    "#    print(\"Thank you!\")"
   ]
  },
  {
   "cell_type": "markdown",
   "id": "6ef22b1e",
   "metadata": {},
   "source": [
    "Here I have created a function inside a class which would replace the string with the new string we want. In this case I have opened the example.txt again and replaced the word \"placement\" with \"screening\" using replace method."
   ]
  },
  {
   "cell_type": "code",
   "execution_count": 2,
   "id": "464df880",
   "metadata": {},
   "outputs": [],
   "source": [
    "import logging\n",
    "logging.basicConfig(filename=\"FileHandling.log\", level=logging.DEBUG, format='%(asctime)s %(levelname)s %(message)s')\n",
    "class ReplaceString():\n",
    "    def __init__(self):\n",
    "        logging.info(\"...New object initiated...\")\n",
    "        pass\n",
    "    def replace_string_in_a_file(self):\n",
    "        filename=input(\"Enter the file name in which string to be replaced: \")\n",
    "        old = input(\"Enter a string which is to be replaced: \")\n",
    "        new = input(\"Enter a string that is going to replace old one: \")\n",
    "        try:\n",
    "            f = open(filename,\"r+\")\n",
    "        except Exception as e:\n",
    "            logging.exception(f\"This is Exception during opening a file. Error: {e}\")\n",
    "            print(\"Please enter a valid File, Thank you!\")\n",
    "        else:\n",
    "            lines = f.readlines()\n",
    "            count = 0\n",
    "            for i in lines:\n",
    "                for x in i:\n",
    "                    new_string = i.replace(old,new)\n",
    "                    lines = new_string\n",
    "                count+=1\n",
    "            \n",
    "            try:\n",
    "                f.truncate(0)\n",
    "                f.writelines(new_string)\n",
    "            except Exception as e:\n",
    "                logging.exception(f\"This is Exception during writing a file. Error: {e}\")\n",
    "            else:\n",
    "                logging.info(f\"string has been updated in the file\")\n",
    "            finally:\n",
    "                f.close()"
   ]
  },
  {
   "cell_type": "code",
   "execution_count": 3,
   "id": "5aabd929",
   "metadata": {},
   "outputs": [],
   "source": [
    "StringinFile=ReplaceString()"
   ]
  },
  {
   "cell_type": "code",
   "execution_count": 4,
   "id": "789f7550",
   "metadata": {},
   "outputs": [
    {
     "name": "stdout",
     "output_type": "stream",
     "text": [
      "Enter the file name in which string to be replaced: example.txt\n",
      "Enter a string which is to be replaced: placement\n",
      "Enter a string that is going to replace old one: screening\n"
     ]
    }
   ],
   "source": [
    "StringinFile.replace_string_in_a_file()"
   ]
  },
  {
   "cell_type": "code",
   "execution_count": 6,
   "id": "9739a159",
   "metadata": {},
   "outputs": [
    {
     "name": "stdout",
     "output_type": "stream",
     "text": [
      "\u0000\u0000\u0000\u0000\u0000\u0000\u0000\u0000\u0000\u0000\u0000\u0000\u0000\u0000\u0000\u0000\u0000\u0000\u0000\u0000\u0000\u0000\u0000\u0000\u0000\u0000\u0000\u0000\u0000\u0000This is a screening assignment\n"
     ]
    }
   ],
   "source": [
    "try:\n",
    "    f=open('example.txt','r')\n",
    "except Exception as e:\n",
    "    print(\"This is an error\",e)\n",
    "else:\n",
    "    print(f.read())\n",
    "    f.close()\n",
    "#finally:\n",
    "    #print(\"Thank you!\")"
   ]
  },
  {
   "cell_type": "code",
   "execution_count": null,
   "id": "ae3b94e7",
   "metadata": {},
   "outputs": [],
   "source": []
  },
  {
   "cell_type": "code",
   "execution_count": null,
   "id": "a72e9b09",
   "metadata": {},
   "outputs": [],
   "source": []
  }
 ],
 "metadata": {
  "kernelspec": {
   "display_name": "Python 3 (ipykernel)",
   "language": "python",
   "name": "python3"
  },
  "language_info": {
   "codemirror_mode": {
    "name": "ipython",
    "version": 3
   },
   "file_extension": ".py",
   "mimetype": "text/x-python",
   "name": "python",
   "nbconvert_exporter": "python",
   "pygments_lexer": "ipython3",
   "version": "3.9.7"
  }
 },
 "nbformat": 4,
 "nbformat_minor": 5
}
