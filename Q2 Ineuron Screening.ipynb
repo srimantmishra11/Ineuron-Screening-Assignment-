{
 "cells": [
  {
   "cell_type": "markdown",
   "id": "5c177b13",
   "metadata": {},
   "source": [
    "Q2. Demonstrate use of abstract class, multiple inheritance and decorator in\n",
    "python using examples."
   ]
  },
  {
   "cell_type": "markdown",
   "id": "2bb903a5",
   "metadata": {},
   "source": [
    "Abstract class: i. In Python, abstract base classes provide a blueprint for concrete classes. They don’t contain implementation. Instead, they provide an interface and make sure that derived concrete classes are properly implemented.\n",
    "\n",
    "ii. Abstract base classes cannot be instantiated. Instead, they are inherited and extended by the concrete subclasses.\n",
    "\n",
    "iii. Subclasses derived from a specific abstract base class must implement the methods and properties provided in that abstract base class. Otherwise, an error is raised during the object instantiation.\n",
    "\n",
    "Please find the below program which has used abstract class with abstract methods using abstractmethod decorator."
   ]
  },
  {
   "cell_type": "code",
   "execution_count": 1,
   "id": "9a920208",
   "metadata": {},
   "outputs": [],
   "source": [
    "import logging\n",
    "logging.basicConfig(filename=\"AbstractDemonstration.log\", level=logging.DEBUG, format='%(asctime)s %(levelname)s %(message)s')\n",
    "from abc import ABC,abstractmethod\n",
    "# abc is a builtin module, we have to import ABC and abstractmethod\n",
    "\n",
    "class Salary(ABC): # Inherit from ABC(Abstract base class)\n",
    "    @abstractmethod # Decorator to define an abstract method trees\n",
    "    def Employee(self):\n",
    "        logging.info(\"...Abstract method Employees have been initiated...\")\n",
    "        pass\n",
    "    @abstractmethod # Decorator to define an abstract method animals\n",
    "    def Avg_Monthly_Salary(self):\n",
    "        logging.info(\"...Abstract method Monthly Salary method have been initiated...\")\n",
    "        pass\n",
    "class SalaryInfo(Salary): \n",
    "    \n",
    "    def __init__(self,employee_name,cumulative_sal_amount,experience_in_month): #This class is directly derived from abstract class(Environment)\n",
    "    #If you inherit from the Environment class but don't implement the abstract methods, you'll get an error\n",
    "        logging.info(\"... Executing Child class ...\")\n",
    "        self.name=employee_name\n",
    "        self.amount=cumulative_sal_amount\n",
    "        self.experience=experience_in_month\n",
    "    def Employee(self):\n",
    "        logging.info(\"... Executing Employee method ...\")\n",
    "        print(\"name of the Employee: \",self.name)\n",
    "        print(\"Cumulative Salary:\",self.amount)\n",
    "        print(\"Experience in months\",self.experience)\n",
    "    def Avg_Monthly_Salary(self):\n",
    "        logging.info(\"... Calculating avg monthly salary...\")\n",
    "        try:\n",
    "            monthly_salary=self.amount/self.experience\n",
    "        except Exception as e:\n",
    "            logging.exception(f\"This is Exception during calculating salary. Error: {e}\")\n",
    "        else:\n",
    "            return monthly_salary"
   ]
  },
  {
   "cell_type": "code",
   "execution_count": 2,
   "id": "7aa5c6a4",
   "metadata": {},
   "outputs": [],
   "source": [
    "S1= SalaryInfo(\"Naman Agrawal\",12220,10)"
   ]
  },
  {
   "cell_type": "code",
   "execution_count": 3,
   "id": "eb6c7425",
   "metadata": {},
   "outputs": [
    {
     "data": {
      "text/plain": [
       "1222.0"
      ]
     },
     "execution_count": 3,
     "metadata": {},
     "output_type": "execute_result"
    }
   ],
   "source": [
    "S1.Avg_Monthly_Salary()"
   ]
  },
  {
   "cell_type": "code",
   "execution_count": 4,
   "id": "f0e0a8e8",
   "metadata": {},
   "outputs": [
    {
     "name": "stdout",
     "output_type": "stream",
     "text": [
      "name of the Employee:  Naman Agrawal\n",
      "Cumulative Salary: 12220\n",
      "Experience in months 10\n"
     ]
    }
   ],
   "source": [
    "S1.Employee()"
   ]
  },
  {
   "cell_type": "markdown",
   "id": "4426f70d",
   "metadata": {},
   "source": [
    "MULTIPLE INHERITANCE"
   ]
  },
  {
   "cell_type": "markdown",
   "id": "b2373c89",
   "metadata": {},
   "source": [
    "I. Multiple Inheritance is a feature where a class can derive attributes and methods from more than one base classes.\n",
    "\n",
    "II. The syntax for Multiple Inheritance is also similar to the single inheritance. By the way, in Multiple Inheritance, the child class claims the properties and methods of all the parent classes."
   ]
  },
  {
   "cell_type": "code",
   "execution_count": 5,
   "id": "d68fdede",
   "metadata": {},
   "outputs": [],
   "source": [
    "import logging\n",
    "logging.basicConfig(filename=\"MultipleInheritanceDemonstration.log\", level=logging.DEBUG, format='%(asctime)s %(levelname)s %(message)s')\n",
    "class Vehicle_Bike:\n",
    "\n",
    "    def __init__(self, Vehicle1Name, Vehicle1ID, Factory_location1):\n",
    "        logging.info(\"... Vehicle Bike Instantiated ...\")\n",
    "        self.name = Vehicle1Name\n",
    "        self.ID = Vehicle1ID\n",
    "        self.location = Factory_location1\n",
    "        \n",
    "    def DisplayBikeDetails(self):\n",
    "        logging.info(\"... This will display Bike details ...\")\n",
    "        print(\"\\nVehicle Name:\", self.name)\n",
    "        print(\"Vehicle ID:\", self.ID)\n",
    "        print(\"fACTORY City:\", self.location)\n",
    "\n",
    "        \n",
    "# defining another class\n",
    "class Vehicle_Car:\n",
    "    \n",
    "    \n",
    "    \n",
    "    def __init__(self, Vehicle2Name, Vehicle2ID, Price):\n",
    "        logging.info(\"... Vehicle Car Instantiated ...\")\n",
    "        self.VehicleID = Vehicle2ID\n",
    "        self.Name = Vehicle2Name\n",
    "        self.Price = Price\n",
    "  \n",
    "    def DisplayCarData(self):\n",
    "        logging.info(\"... This will display Car details and returns nothing...\")\n",
    "        print(\"Car ID:\", self.VehicleID)\n",
    "        print(\"Car Name:\", self.Name)\n",
    "        print(\"Car Amount:\", self.Price)\n",
    "        \n",
    "        \n",
    "class Discount_rate(Vehicle_Bike, Vehicle_Car): #MULTIPLE INHERITANCE\n",
    "    \n",
    "    def __init__(self, Vehicle1Name, Vehicle1ID, Factory_location1, Vehicle2Name, Vehicle2ID, Price):\n",
    "        logging.info(\"... Subclass Discount_rate Instantiated ...\")\n",
    "        Vehicle_Bike.__init__(self, Vehicle1Name, Vehicle1ID, Factory_location1)\n",
    "        Vehicle_Car.__init__(self, Vehicle2Name, Vehicle2ID, Price)\n",
    "        \n",
    "        \n",
    "    def Amount_in_Discount(self):\n",
    "        try:\n",
    "            print(\"Car Discounted Rate: \", (self.Price-(self.Price * 10 / 100) ))\n",
    "        except Exception as err:\n",
    "            logging.exception(f\"This is Exception during calculating discount. Error: {e}\")"
   ]
  },
  {
   "cell_type": "code",
   "execution_count": 6,
   "id": "e1d3e769",
   "metadata": {},
   "outputs": [],
   "source": [
    "A1=Discount_rate('Revolt', 766655, 'Hyderabad', 'Hundai', 998876, 120000)"
   ]
  },
  {
   "cell_type": "code",
   "execution_count": 7,
   "id": "e84971ef",
   "metadata": {},
   "outputs": [
    {
     "name": "stdout",
     "output_type": "stream",
     "text": [
      "\n",
      "Vehicle Name: Revolt\n",
      "Vehicle ID: 766655\n",
      "fACTORY City: Hyderabad\n"
     ]
    }
   ],
   "source": [
    "A1.DisplayBikeDetails()"
   ]
  },
  {
   "cell_type": "code",
   "execution_count": 8,
   "id": "76b83068",
   "metadata": {},
   "outputs": [
    {
     "name": "stdout",
     "output_type": "stream",
     "text": [
      "Car ID: 998876\n",
      "Car Name: Hundai\n",
      "Car Amount: 120000\n"
     ]
    }
   ],
   "source": [
    "A1.DisplayCarData()"
   ]
  },
  {
   "cell_type": "code",
   "execution_count": 9,
   "id": "9309a75a",
   "metadata": {},
   "outputs": [
    {
     "name": "stdout",
     "output_type": "stream",
     "text": [
      "Car Discounted Rate:  108000.0\n"
     ]
    }
   ],
   "source": [
    "A1.Amount_in_Discount()"
   ]
  },
  {
   "cell_type": "markdown",
   "id": "baea883c",
   "metadata": {},
   "source": [
    "DECORATOR"
   ]
  },
  {
   "cell_type": "markdown",
   "id": "b16bb3d2",
   "metadata": {},
   "source": [
    "1. A decorator is a design pattern in Python that allows a user to add new functionality to an existing object without modifying its structure. \n",
    "\n",
    "2. Decorators are usually called before the definition of a function you want to decorate.Basiclly in Decorators, functions are passed as an argument into another function and then called inside the wrapper function.\n",
    "\n",
    "3. Please find the beloww code where I have taken property decorator"
   ]
  },
  {
   "cell_type": "code",
   "execution_count": 10,
   "id": "10671e26",
   "metadata": {},
   "outputs": [],
   "source": [
    "import logging\n",
    "logging.basicConfig(filename=\"DecoratorDemonstration.log\", level=logging.DEBUG, format='%(asctime)s %(levelname)s %(message)s')\n",
    "class Student:  \n",
    "    def __init__(self,name,age,standard,gender,marks):  \n",
    "        logging.info(\"... Student class Instantiated...\")\n",
    "        self.name=name\n",
    "        self.age=age\n",
    "        self.standard=standard\n",
    "        self.gender=gender\n",
    "        self.marks=marks\n",
    "    @property\n",
    "    def decorator_example(self): \n",
    "        '''\n",
    "        Declares the method as a property.\n",
    "        '''\n",
    "        logging.info(\"... property decorator implemented...\")\n",
    "        return \"student name: {0} \\nstudent age: {1} \\nstudent standard: {2} \\nstudent gender: {3} \\nstudent mark: {4}\".format(self.name,self.age,self.standard,self.gender,self.marks)\n",
    "    @property\n",
    "    def calc_percentage(self):\n",
    "        try:\n",
    "            return (self.marks/600)*100\n",
    "        except Exception as e:\n",
    "            logging.exception(f\"This is an Exception during calculating percentage . Error: {e}\")"
   ]
  },
  {
   "cell_type": "code",
   "execution_count": 11,
   "id": "8169f0e9",
   "metadata": {},
   "outputs": [
    {
     "name": "stdout",
     "output_type": "stream",
     "text": [
      "student name: Srimanta \n",
      "student age: 23 \n",
      "student standard: 8th \n",
      "student gender: male \n",
      "student mark: 456\n",
      "76.0\n"
     ]
    }
   ],
   "source": [
    "S1=Student(\"Srimanta\",23,\"8th\",\"male\",456)       \n",
    "print(S1.decorator_example)\n",
    "print(S1.calc_percentage)"
   ]
  },
  {
   "cell_type": "code",
   "execution_count": null,
   "id": "888b6a0a",
   "metadata": {},
   "outputs": [],
   "source": []
  }
 ],
 "metadata": {
  "kernelspec": {
   "display_name": "Python 3 (ipykernel)",
   "language": "python",
   "name": "python3"
  },
  "language_info": {
   "codemirror_mode": {
    "name": "ipython",
    "version": 3
   },
   "file_extension": ".py",
   "mimetype": "text/x-python",
   "name": "python",
   "nbconvert_exporter": "python",
   "pygments_lexer": "ipython3",
   "version": "3.9.7"
  }
 },
 "nbformat": 4,
 "nbformat_minor": 5
}
